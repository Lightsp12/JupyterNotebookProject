{
 "cells": [
  {
   "cell_type": "code",
   "execution_count": 2,
   "metadata": {},
   "outputs": [],
   "source": [
    "import numpy as np\n",
    "import pandas as pd\n",
    "import matplotlib.pyplot as plt"
   ]
  },
  {
   "cell_type": "code",
   "execution_count": 3,
   "metadata": {},
   "outputs": [
    {
     "data": {
      "text/html": [
       "<div>\n",
       "<style scoped>\n",
       "    .dataframe tbody tr th:only-of-type {\n",
       "        vertical-align: middle;\n",
       "    }\n",
       "\n",
       "    .dataframe tbody tr th {\n",
       "        vertical-align: top;\n",
       "    }\n",
       "\n",
       "    .dataframe thead th {\n",
       "        text-align: right;\n",
       "    }\n",
       "</style>\n",
       "<table border=\"1\" class=\"dataframe\">\n",
       "  <thead>\n",
       "    <tr style=\"text-align: right;\">\n",
       "      <th></th>\n",
       "      <th>Date</th>\n",
       "      <th>Day</th>\n",
       "      <th>Month</th>\n",
       "      <th>Year</th>\n",
       "      <th>Customer_Age</th>\n",
       "      <th>Age_Group</th>\n",
       "      <th>Customer_Gender</th>\n",
       "      <th>Country</th>\n",
       "      <th>State</th>\n",
       "      <th>Product_Category</th>\n",
       "      <th>Sub_Category</th>\n",
       "      <th>Product</th>\n",
       "      <th>Order_Quantity</th>\n",
       "      <th>Unit_Cost</th>\n",
       "      <th>Unit_Price</th>\n",
       "      <th>Profit</th>\n",
       "      <th>Cost</th>\n",
       "      <th>Revenue</th>\n",
       "    </tr>\n",
       "  </thead>\n",
       "  <tbody>\n",
       "    <tr>\n",
       "      <th>0</th>\n",
       "      <td>2013-11-26</td>\n",
       "      <td>26</td>\n",
       "      <td>November</td>\n",
       "      <td>2013</td>\n",
       "      <td>19</td>\n",
       "      <td>Youth (&lt;25)</td>\n",
       "      <td>M</td>\n",
       "      <td>Canada</td>\n",
       "      <td>British Columbia</td>\n",
       "      <td>Accessories</td>\n",
       "      <td>Bike Racks</td>\n",
       "      <td>Hitch Rack - 4-Bike</td>\n",
       "      <td>8</td>\n",
       "      <td>45</td>\n",
       "      <td>120</td>\n",
       "      <td>590</td>\n",
       "      <td>360</td>\n",
       "      <td>950</td>\n",
       "    </tr>\n",
       "    <tr>\n",
       "      <th>1</th>\n",
       "      <td>2015-11-26</td>\n",
       "      <td>26</td>\n",
       "      <td>November</td>\n",
       "      <td>2015</td>\n",
       "      <td>19</td>\n",
       "      <td>Youth (&lt;25)</td>\n",
       "      <td>M</td>\n",
       "      <td>Canada</td>\n",
       "      <td>British Columbia</td>\n",
       "      <td>Accessories</td>\n",
       "      <td>Bike Racks</td>\n",
       "      <td>Hitch Rack - 4-Bike</td>\n",
       "      <td>8</td>\n",
       "      <td>45</td>\n",
       "      <td>120</td>\n",
       "      <td>590</td>\n",
       "      <td>360</td>\n",
       "      <td>950</td>\n",
       "    </tr>\n",
       "    <tr>\n",
       "      <th>2</th>\n",
       "      <td>2014-03-23</td>\n",
       "      <td>23</td>\n",
       "      <td>March</td>\n",
       "      <td>2014</td>\n",
       "      <td>49</td>\n",
       "      <td>Adults (35-64)</td>\n",
       "      <td>M</td>\n",
       "      <td>Australia</td>\n",
       "      <td>New South Wales</td>\n",
       "      <td>Accessories</td>\n",
       "      <td>Bike Racks</td>\n",
       "      <td>Hitch Rack - 4-Bike</td>\n",
       "      <td>23</td>\n",
       "      <td>45</td>\n",
       "      <td>120</td>\n",
       "      <td>1366</td>\n",
       "      <td>1035</td>\n",
       "      <td>2401</td>\n",
       "    </tr>\n",
       "    <tr>\n",
       "      <th>3</th>\n",
       "      <td>2016-03-23</td>\n",
       "      <td>23</td>\n",
       "      <td>March</td>\n",
       "      <td>2016</td>\n",
       "      <td>49</td>\n",
       "      <td>Adults (35-64)</td>\n",
       "      <td>M</td>\n",
       "      <td>Australia</td>\n",
       "      <td>New South Wales</td>\n",
       "      <td>Accessories</td>\n",
       "      <td>Bike Racks</td>\n",
       "      <td>Hitch Rack - 4-Bike</td>\n",
       "      <td>20</td>\n",
       "      <td>45</td>\n",
       "      <td>120</td>\n",
       "      <td>1188</td>\n",
       "      <td>900</td>\n",
       "      <td>2088</td>\n",
       "    </tr>\n",
       "    <tr>\n",
       "      <th>4</th>\n",
       "      <td>2014-05-15</td>\n",
       "      <td>15</td>\n",
       "      <td>May</td>\n",
       "      <td>2014</td>\n",
       "      <td>47</td>\n",
       "      <td>Adults (35-64)</td>\n",
       "      <td>F</td>\n",
       "      <td>Australia</td>\n",
       "      <td>New South Wales</td>\n",
       "      <td>Accessories</td>\n",
       "      <td>Bike Racks</td>\n",
       "      <td>Hitch Rack - 4-Bike</td>\n",
       "      <td>4</td>\n",
       "      <td>45</td>\n",
       "      <td>120</td>\n",
       "      <td>238</td>\n",
       "      <td>180</td>\n",
       "      <td>418</td>\n",
       "    </tr>\n",
       "    <tr>\n",
       "      <th>5</th>\n",
       "      <td>2016-05-15</td>\n",
       "      <td>15</td>\n",
       "      <td>May</td>\n",
       "      <td>2016</td>\n",
       "      <td>47</td>\n",
       "      <td>Adults (35-64)</td>\n",
       "      <td>F</td>\n",
       "      <td>Australia</td>\n",
       "      <td>New South Wales</td>\n",
       "      <td>Accessories</td>\n",
       "      <td>Bike Racks</td>\n",
       "      <td>Hitch Rack - 4-Bike</td>\n",
       "      <td>5</td>\n",
       "      <td>45</td>\n",
       "      <td>120</td>\n",
       "      <td>297</td>\n",
       "      <td>225</td>\n",
       "      <td>522</td>\n",
       "    </tr>\n",
       "    <tr>\n",
       "      <th>6</th>\n",
       "      <td>2014-05-22</td>\n",
       "      <td>22</td>\n",
       "      <td>May</td>\n",
       "      <td>2014</td>\n",
       "      <td>47</td>\n",
       "      <td>Adults (35-64)</td>\n",
       "      <td>F</td>\n",
       "      <td>Australia</td>\n",
       "      <td>Victoria</td>\n",
       "      <td>Accessories</td>\n",
       "      <td>Bike Racks</td>\n",
       "      <td>Hitch Rack - 4-Bike</td>\n",
       "      <td>4</td>\n",
       "      <td>45</td>\n",
       "      <td>120</td>\n",
       "      <td>199</td>\n",
       "      <td>180</td>\n",
       "      <td>379</td>\n",
       "    </tr>\n",
       "    <tr>\n",
       "      <th>7</th>\n",
       "      <td>2016-05-22</td>\n",
       "      <td>22</td>\n",
       "      <td>May</td>\n",
       "      <td>2016</td>\n",
       "      <td>47</td>\n",
       "      <td>Adults (35-64)</td>\n",
       "      <td>F</td>\n",
       "      <td>Australia</td>\n",
       "      <td>Victoria</td>\n",
       "      <td>Accessories</td>\n",
       "      <td>Bike Racks</td>\n",
       "      <td>Hitch Rack - 4-Bike</td>\n",
       "      <td>2</td>\n",
       "      <td>45</td>\n",
       "      <td>120</td>\n",
       "      <td>100</td>\n",
       "      <td>90</td>\n",
       "      <td>190</td>\n",
       "    </tr>\n",
       "    <tr>\n",
       "      <th>8</th>\n",
       "      <td>2014-02-22</td>\n",
       "      <td>22</td>\n",
       "      <td>February</td>\n",
       "      <td>2014</td>\n",
       "      <td>35</td>\n",
       "      <td>Adults (35-64)</td>\n",
       "      <td>M</td>\n",
       "      <td>Australia</td>\n",
       "      <td>Victoria</td>\n",
       "      <td>Accessories</td>\n",
       "      <td>Bike Racks</td>\n",
       "      <td>Hitch Rack - 4-Bike</td>\n",
       "      <td>22</td>\n",
       "      <td>45</td>\n",
       "      <td>120</td>\n",
       "      <td>1096</td>\n",
       "      <td>990</td>\n",
       "      <td>2086</td>\n",
       "    </tr>\n",
       "    <tr>\n",
       "      <th>9</th>\n",
       "      <td>2016-02-22</td>\n",
       "      <td>22</td>\n",
       "      <td>February</td>\n",
       "      <td>2016</td>\n",
       "      <td>35</td>\n",
       "      <td>Adults (35-64)</td>\n",
       "      <td>M</td>\n",
       "      <td>Australia</td>\n",
       "      <td>Victoria</td>\n",
       "      <td>Accessories</td>\n",
       "      <td>Bike Racks</td>\n",
       "      <td>Hitch Rack - 4-Bike</td>\n",
       "      <td>21</td>\n",
       "      <td>45</td>\n",
       "      <td>120</td>\n",
       "      <td>1046</td>\n",
       "      <td>945</td>\n",
       "      <td>1991</td>\n",
       "    </tr>\n",
       "  </tbody>\n",
       "</table>\n",
       "</div>"
      ],
      "text/plain": [
       "        Date  Day     Month  Year  Customer_Age       Age_Group  \\\n",
       "0 2013-11-26   26  November  2013            19     Youth (<25)   \n",
       "1 2015-11-26   26  November  2015            19     Youth (<25)   \n",
       "2 2014-03-23   23     March  2014            49  Adults (35-64)   \n",
       "3 2016-03-23   23     March  2016            49  Adults (35-64)   \n",
       "4 2014-05-15   15       May  2014            47  Adults (35-64)   \n",
       "5 2016-05-15   15       May  2016            47  Adults (35-64)   \n",
       "6 2014-05-22   22       May  2014            47  Adults (35-64)   \n",
       "7 2016-05-22   22       May  2016            47  Adults (35-64)   \n",
       "8 2014-02-22   22  February  2014            35  Adults (35-64)   \n",
       "9 2016-02-22   22  February  2016            35  Adults (35-64)   \n",
       "\n",
       "  Customer_Gender    Country             State Product_Category Sub_Category  \\\n",
       "0               M     Canada  British Columbia      Accessories   Bike Racks   \n",
       "1               M     Canada  British Columbia      Accessories   Bike Racks   \n",
       "2               M  Australia   New South Wales      Accessories   Bike Racks   \n",
       "3               M  Australia   New South Wales      Accessories   Bike Racks   \n",
       "4               F  Australia   New South Wales      Accessories   Bike Racks   \n",
       "5               F  Australia   New South Wales      Accessories   Bike Racks   \n",
       "6               F  Australia          Victoria      Accessories   Bike Racks   \n",
       "7               F  Australia          Victoria      Accessories   Bike Racks   \n",
       "8               M  Australia          Victoria      Accessories   Bike Racks   \n",
       "9               M  Australia          Victoria      Accessories   Bike Racks   \n",
       "\n",
       "               Product  Order_Quantity  Unit_Cost  Unit_Price  Profit  Cost  \\\n",
       "0  Hitch Rack - 4-Bike               8         45         120     590   360   \n",
       "1  Hitch Rack - 4-Bike               8         45         120     590   360   \n",
       "2  Hitch Rack - 4-Bike              23         45         120    1366  1035   \n",
       "3  Hitch Rack - 4-Bike              20         45         120    1188   900   \n",
       "4  Hitch Rack - 4-Bike               4         45         120     238   180   \n",
       "5  Hitch Rack - 4-Bike               5         45         120     297   225   \n",
       "6  Hitch Rack - 4-Bike               4         45         120     199   180   \n",
       "7  Hitch Rack - 4-Bike               2         45         120     100    90   \n",
       "8  Hitch Rack - 4-Bike              22         45         120    1096   990   \n",
       "9  Hitch Rack - 4-Bike              21         45         120    1046   945   \n",
       "\n",
       "   Revenue  \n",
       "0      950  \n",
       "1      950  \n",
       "2     2401  \n",
       "3     2088  \n",
       "4      418  \n",
       "5      522  \n",
       "6      379  \n",
       "7      190  \n",
       "8     2086  \n",
       "9     1991  "
      ]
     },
     "execution_count": 3,
     "metadata": {},
     "output_type": "execute_result"
    }
   ],
   "source": [
    "sales = pd.read_excel(R\"C:\\Users\\jesus\\Downloads\\Sales_bike.xlsx\")\n",
    "sales.head(10)"
   ]
  },
  {
   "cell_type": "code",
   "execution_count": 4,
   "metadata": {},
   "outputs": [],
   "source": [
    "%matplotlib inline"
   ]
  },
  {
   "cell_type": "code",
   "execution_count": 5,
   "metadata": {},
   "outputs": [
    {
     "data": {
      "text/plain": [
       "(113036, 18)"
      ]
     },
     "execution_count": 5,
     "metadata": {},
     "output_type": "execute_result"
    }
   ],
   "source": [
    "sales.shape"
   ]
  },
  {
   "cell_type": "code",
   "execution_count": 6,
   "metadata": {},
   "outputs": [
    {
     "name": "stdout",
     "output_type": "stream",
     "text": [
      "<class 'pandas.core.frame.DataFrame'>\n",
      "RangeIndex: 113036 entries, 0 to 113035\n",
      "Data columns (total 18 columns):\n",
      " #   Column            Non-Null Count   Dtype         \n",
      "---  ------            --------------   -----         \n",
      " 0   Date              113036 non-null  datetime64[ns]\n",
      " 1   Day               113036 non-null  int64         \n",
      " 2   Month             113036 non-null  object        \n",
      " 3   Year              113036 non-null  int64         \n",
      " 4   Customer_Age      113036 non-null  int64         \n",
      " 5   Age_Group         113036 non-null  object        \n",
      " 6   Customer_Gender   113036 non-null  object        \n",
      " 7   Country           113036 non-null  object        \n",
      " 8   State             113036 non-null  object        \n",
      " 9   Product_Category  113036 non-null  object        \n",
      " 10  Sub_Category      113036 non-null  object        \n",
      " 11  Product           113036 non-null  object        \n",
      " 12  Order_Quantity    113036 non-null  int64         \n",
      " 13  Unit_Cost         113036 non-null  int64         \n",
      " 14  Unit_Price        113036 non-null  int64         \n",
      " 15  Profit            113036 non-null  int64         \n",
      " 16  Cost              113036 non-null  int64         \n",
      " 17  Revenue           113036 non-null  int64         \n",
      "dtypes: datetime64[ns](1), int64(9), object(8)\n",
      "memory usage: 15.5+ MB\n"
     ]
    }
   ],
   "source": [
    "sales.info()"
   ]
  },
  {
   "cell_type": "code",
   "execution_count": 7,
   "metadata": {},
   "outputs": [
    {
     "data": {
      "text/html": [
       "<div>\n",
       "<style scoped>\n",
       "    .dataframe tbody tr th:only-of-type {\n",
       "        vertical-align: middle;\n",
       "    }\n",
       "\n",
       "    .dataframe tbody tr th {\n",
       "        vertical-align: top;\n",
       "    }\n",
       "\n",
       "    .dataframe thead th {\n",
       "        text-align: right;\n",
       "    }\n",
       "</style>\n",
       "<table border=\"1\" class=\"dataframe\">\n",
       "  <thead>\n",
       "    <tr style=\"text-align: right;\">\n",
       "      <th></th>\n",
       "      <th>Day</th>\n",
       "      <th>Year</th>\n",
       "      <th>Customer_Age</th>\n",
       "      <th>Order_Quantity</th>\n",
       "      <th>Unit_Cost</th>\n",
       "      <th>Unit_Price</th>\n",
       "      <th>Profit</th>\n",
       "      <th>Cost</th>\n",
       "      <th>Revenue</th>\n",
       "    </tr>\n",
       "  </thead>\n",
       "  <tbody>\n",
       "    <tr>\n",
       "      <th>count</th>\n",
       "      <td>113036.000000</td>\n",
       "      <td>113036.000000</td>\n",
       "      <td>113036.000000</td>\n",
       "      <td>113036.000000</td>\n",
       "      <td>113036.000000</td>\n",
       "      <td>113036.000000</td>\n",
       "      <td>113036.000000</td>\n",
       "      <td>113036.000000</td>\n",
       "      <td>113036.000000</td>\n",
       "    </tr>\n",
       "    <tr>\n",
       "      <th>mean</th>\n",
       "      <td>15.665753</td>\n",
       "      <td>2014.401739</td>\n",
       "      <td>35.919212</td>\n",
       "      <td>11.901660</td>\n",
       "      <td>267.296366</td>\n",
       "      <td>452.938427</td>\n",
       "      <td>285.051665</td>\n",
       "      <td>469.318695</td>\n",
       "      <td>754.370360</td>\n",
       "    </tr>\n",
       "    <tr>\n",
       "      <th>std</th>\n",
       "      <td>8.781567</td>\n",
       "      <td>1.272510</td>\n",
       "      <td>11.021936</td>\n",
       "      <td>9.561857</td>\n",
       "      <td>549.835483</td>\n",
       "      <td>922.071219</td>\n",
       "      <td>453.887443</td>\n",
       "      <td>884.866118</td>\n",
       "      <td>1309.094674</td>\n",
       "    </tr>\n",
       "    <tr>\n",
       "      <th>min</th>\n",
       "      <td>1.000000</td>\n",
       "      <td>2011.000000</td>\n",
       "      <td>17.000000</td>\n",
       "      <td>1.000000</td>\n",
       "      <td>1.000000</td>\n",
       "      <td>2.000000</td>\n",
       "      <td>-30.000000</td>\n",
       "      <td>1.000000</td>\n",
       "      <td>2.000000</td>\n",
       "    </tr>\n",
       "    <tr>\n",
       "      <th>25%</th>\n",
       "      <td>8.000000</td>\n",
       "      <td>2013.000000</td>\n",
       "      <td>28.000000</td>\n",
       "      <td>2.000000</td>\n",
       "      <td>2.000000</td>\n",
       "      <td>5.000000</td>\n",
       "      <td>29.000000</td>\n",
       "      <td>28.000000</td>\n",
       "      <td>63.000000</td>\n",
       "    </tr>\n",
       "    <tr>\n",
       "      <th>50%</th>\n",
       "      <td>16.000000</td>\n",
       "      <td>2014.000000</td>\n",
       "      <td>35.000000</td>\n",
       "      <td>10.000000</td>\n",
       "      <td>9.000000</td>\n",
       "      <td>24.000000</td>\n",
       "      <td>101.000000</td>\n",
       "      <td>108.000000</td>\n",
       "      <td>223.000000</td>\n",
       "    </tr>\n",
       "    <tr>\n",
       "      <th>75%</th>\n",
       "      <td>23.000000</td>\n",
       "      <td>2016.000000</td>\n",
       "      <td>43.000000</td>\n",
       "      <td>20.000000</td>\n",
       "      <td>42.000000</td>\n",
       "      <td>70.000000</td>\n",
       "      <td>358.000000</td>\n",
       "      <td>432.000000</td>\n",
       "      <td>800.000000</td>\n",
       "    </tr>\n",
       "    <tr>\n",
       "      <th>max</th>\n",
       "      <td>31.000000</td>\n",
       "      <td>2016.000000</td>\n",
       "      <td>87.000000</td>\n",
       "      <td>32.000000</td>\n",
       "      <td>2171.000000</td>\n",
       "      <td>3578.000000</td>\n",
       "      <td>15096.000000</td>\n",
       "      <td>42978.000000</td>\n",
       "      <td>58074.000000</td>\n",
       "    </tr>\n",
       "  </tbody>\n",
       "</table>\n",
       "</div>"
      ],
      "text/plain": [
       "                 Day           Year   Customer_Age  Order_Quantity  \\\n",
       "count  113036.000000  113036.000000  113036.000000   113036.000000   \n",
       "mean       15.665753    2014.401739      35.919212       11.901660   \n",
       "std         8.781567       1.272510      11.021936        9.561857   \n",
       "min         1.000000    2011.000000      17.000000        1.000000   \n",
       "25%         8.000000    2013.000000      28.000000        2.000000   \n",
       "50%        16.000000    2014.000000      35.000000       10.000000   \n",
       "75%        23.000000    2016.000000      43.000000       20.000000   \n",
       "max        31.000000    2016.000000      87.000000       32.000000   \n",
       "\n",
       "           Unit_Cost     Unit_Price         Profit           Cost  \\\n",
       "count  113036.000000  113036.000000  113036.000000  113036.000000   \n",
       "mean      267.296366     452.938427     285.051665     469.318695   \n",
       "std       549.835483     922.071219     453.887443     884.866118   \n",
       "min         1.000000       2.000000     -30.000000       1.000000   \n",
       "25%         2.000000       5.000000      29.000000      28.000000   \n",
       "50%         9.000000      24.000000     101.000000     108.000000   \n",
       "75%        42.000000      70.000000     358.000000     432.000000   \n",
       "max      2171.000000    3578.000000   15096.000000   42978.000000   \n",
       "\n",
       "             Revenue  \n",
       "count  113036.000000  \n",
       "mean      754.370360  \n",
       "std      1309.094674  \n",
       "min         2.000000  \n",
       "25%        63.000000  \n",
       "50%       223.000000  \n",
       "75%       800.000000  \n",
       "max     58074.000000  "
      ]
     },
     "execution_count": 7,
     "metadata": {},
     "output_type": "execute_result"
    }
   ],
   "source": [
    "# Statistical Properties DataFrame for sales_data\n",
    "sales.describe()"
   ]
  },
  {
   "cell_type": "markdown",
   "metadata": {},
   "source": [
    "# Numerical analysis and Visualization\n",
    "We'll analyze the Unit_Cost colum:"
   ]
  },
  {
   "cell_type": "code",
   "execution_count": 8,
   "metadata": {},
   "outputs": [
    {
     "data": {
      "text/html": [
       "<div>\n",
       "<style scoped>\n",
       "    .dataframe tbody tr th:only-of-type {\n",
       "        vertical-align: middle;\n",
       "    }\n",
       "\n",
       "    .dataframe tbody tr th {\n",
       "        vertical-align: top;\n",
       "    }\n",
       "\n",
       "    .dataframe thead th {\n",
       "        text-align: right;\n",
       "    }\n",
       "</style>\n",
       "<table border=\"1\" class=\"dataframe\">\n",
       "  <thead>\n",
       "    <tr style=\"text-align: right;\">\n",
       "      <th></th>\n",
       "      <th>Date</th>\n",
       "      <th>Day</th>\n",
       "      <th>Month</th>\n",
       "      <th>Year</th>\n",
       "      <th>Customer_Age</th>\n",
       "      <th>Age_Group</th>\n",
       "      <th>Customer_Gender</th>\n",
       "      <th>Country</th>\n",
       "      <th>State</th>\n",
       "      <th>Product_Category</th>\n",
       "      <th>Sub_Category</th>\n",
       "      <th>Product</th>\n",
       "      <th>Order_Quantity</th>\n",
       "      <th>Unit_Cost</th>\n",
       "      <th>Unit_Price</th>\n",
       "      <th>Profit</th>\n",
       "      <th>Cost</th>\n",
       "      <th>Revenue</th>\n",
       "    </tr>\n",
       "  </thead>\n",
       "  <tbody>\n",
       "    <tr>\n",
       "      <th>0</th>\n",
       "      <td>2013-11-26</td>\n",
       "      <td>26</td>\n",
       "      <td>November</td>\n",
       "      <td>2013</td>\n",
       "      <td>19</td>\n",
       "      <td>Youth (&lt;25)</td>\n",
       "      <td>M</td>\n",
       "      <td>Canada</td>\n",
       "      <td>British Columbia</td>\n",
       "      <td>Accessories</td>\n",
       "      <td>Bike Racks</td>\n",
       "      <td>Hitch Rack - 4-Bike</td>\n",
       "      <td>8</td>\n",
       "      <td>45</td>\n",
       "      <td>120</td>\n",
       "      <td>590</td>\n",
       "      <td>360</td>\n",
       "      <td>950</td>\n",
       "    </tr>\n",
       "    <tr>\n",
       "      <th>1</th>\n",
       "      <td>2015-11-26</td>\n",
       "      <td>26</td>\n",
       "      <td>November</td>\n",
       "      <td>2015</td>\n",
       "      <td>19</td>\n",
       "      <td>Youth (&lt;25)</td>\n",
       "      <td>M</td>\n",
       "      <td>Canada</td>\n",
       "      <td>British Columbia</td>\n",
       "      <td>Accessories</td>\n",
       "      <td>Bike Racks</td>\n",
       "      <td>Hitch Rack - 4-Bike</td>\n",
       "      <td>8</td>\n",
       "      <td>45</td>\n",
       "      <td>120</td>\n",
       "      <td>590</td>\n",
       "      <td>360</td>\n",
       "      <td>950</td>\n",
       "    </tr>\n",
       "    <tr>\n",
       "      <th>2</th>\n",
       "      <td>2014-03-23</td>\n",
       "      <td>23</td>\n",
       "      <td>March</td>\n",
       "      <td>2014</td>\n",
       "      <td>49</td>\n",
       "      <td>Adults (35-64)</td>\n",
       "      <td>M</td>\n",
       "      <td>Australia</td>\n",
       "      <td>New South Wales</td>\n",
       "      <td>Accessories</td>\n",
       "      <td>Bike Racks</td>\n",
       "      <td>Hitch Rack - 4-Bike</td>\n",
       "      <td>23</td>\n",
       "      <td>45</td>\n",
       "      <td>120</td>\n",
       "      <td>1366</td>\n",
       "      <td>1035</td>\n",
       "      <td>2401</td>\n",
       "    </tr>\n",
       "    <tr>\n",
       "      <th>3</th>\n",
       "      <td>2016-03-23</td>\n",
       "      <td>23</td>\n",
       "      <td>March</td>\n",
       "      <td>2016</td>\n",
       "      <td>49</td>\n",
       "      <td>Adults (35-64)</td>\n",
       "      <td>M</td>\n",
       "      <td>Australia</td>\n",
       "      <td>New South Wales</td>\n",
       "      <td>Accessories</td>\n",
       "      <td>Bike Racks</td>\n",
       "      <td>Hitch Rack - 4-Bike</td>\n",
       "      <td>20</td>\n",
       "      <td>45</td>\n",
       "      <td>120</td>\n",
       "      <td>1188</td>\n",
       "      <td>900</td>\n",
       "      <td>2088</td>\n",
       "    </tr>\n",
       "    <tr>\n",
       "      <th>4</th>\n",
       "      <td>2014-05-15</td>\n",
       "      <td>15</td>\n",
       "      <td>May</td>\n",
       "      <td>2014</td>\n",
       "      <td>47</td>\n",
       "      <td>Adults (35-64)</td>\n",
       "      <td>F</td>\n",
       "      <td>Australia</td>\n",
       "      <td>New South Wales</td>\n",
       "      <td>Accessories</td>\n",
       "      <td>Bike Racks</td>\n",
       "      <td>Hitch Rack - 4-Bike</td>\n",
       "      <td>4</td>\n",
       "      <td>45</td>\n",
       "      <td>120</td>\n",
       "      <td>238</td>\n",
       "      <td>180</td>\n",
       "      <td>418</td>\n",
       "    </tr>\n",
       "    <tr>\n",
       "      <th>...</th>\n",
       "      <td>...</td>\n",
       "      <td>...</td>\n",
       "      <td>...</td>\n",
       "      <td>...</td>\n",
       "      <td>...</td>\n",
       "      <td>...</td>\n",
       "      <td>...</td>\n",
       "      <td>...</td>\n",
       "      <td>...</td>\n",
       "      <td>...</td>\n",
       "      <td>...</td>\n",
       "      <td>...</td>\n",
       "      <td>...</td>\n",
       "      <td>...</td>\n",
       "      <td>...</td>\n",
       "      <td>...</td>\n",
       "      <td>...</td>\n",
       "      <td>...</td>\n",
       "    </tr>\n",
       "    <tr>\n",
       "      <th>113031</th>\n",
       "      <td>2016-04-12</td>\n",
       "      <td>12</td>\n",
       "      <td>April</td>\n",
       "      <td>2016</td>\n",
       "      <td>41</td>\n",
       "      <td>Adults (35-64)</td>\n",
       "      <td>M</td>\n",
       "      <td>United Kingdom</td>\n",
       "      <td>England</td>\n",
       "      <td>Clothing</td>\n",
       "      <td>Vests</td>\n",
       "      <td>Classic Vest, S</td>\n",
       "      <td>3</td>\n",
       "      <td>24</td>\n",
       "      <td>64</td>\n",
       "      <td>112</td>\n",
       "      <td>72</td>\n",
       "      <td>184</td>\n",
       "    </tr>\n",
       "    <tr>\n",
       "      <th>113032</th>\n",
       "      <td>2014-04-02</td>\n",
       "      <td>2</td>\n",
       "      <td>April</td>\n",
       "      <td>2014</td>\n",
       "      <td>18</td>\n",
       "      <td>Youth (&lt;25)</td>\n",
       "      <td>M</td>\n",
       "      <td>Australia</td>\n",
       "      <td>Queensland</td>\n",
       "      <td>Clothing</td>\n",
       "      <td>Vests</td>\n",
       "      <td>Classic Vest, M</td>\n",
       "      <td>22</td>\n",
       "      <td>24</td>\n",
       "      <td>64</td>\n",
       "      <td>655</td>\n",
       "      <td>528</td>\n",
       "      <td>1183</td>\n",
       "    </tr>\n",
       "    <tr>\n",
       "      <th>113033</th>\n",
       "      <td>2016-04-02</td>\n",
       "      <td>2</td>\n",
       "      <td>April</td>\n",
       "      <td>2016</td>\n",
       "      <td>18</td>\n",
       "      <td>Youth (&lt;25)</td>\n",
       "      <td>M</td>\n",
       "      <td>Australia</td>\n",
       "      <td>Queensland</td>\n",
       "      <td>Clothing</td>\n",
       "      <td>Vests</td>\n",
       "      <td>Classic Vest, M</td>\n",
       "      <td>22</td>\n",
       "      <td>24</td>\n",
       "      <td>64</td>\n",
       "      <td>655</td>\n",
       "      <td>528</td>\n",
       "      <td>1183</td>\n",
       "    </tr>\n",
       "    <tr>\n",
       "      <th>113034</th>\n",
       "      <td>2014-03-04</td>\n",
       "      <td>4</td>\n",
       "      <td>March</td>\n",
       "      <td>2014</td>\n",
       "      <td>37</td>\n",
       "      <td>Adults (35-64)</td>\n",
       "      <td>F</td>\n",
       "      <td>France</td>\n",
       "      <td>Seine (Paris)</td>\n",
       "      <td>Clothing</td>\n",
       "      <td>Vests</td>\n",
       "      <td>Classic Vest, L</td>\n",
       "      <td>24</td>\n",
       "      <td>24</td>\n",
       "      <td>64</td>\n",
       "      <td>684</td>\n",
       "      <td>576</td>\n",
       "      <td>1260</td>\n",
       "    </tr>\n",
       "    <tr>\n",
       "      <th>113035</th>\n",
       "      <td>2016-03-04</td>\n",
       "      <td>4</td>\n",
       "      <td>March</td>\n",
       "      <td>2016</td>\n",
       "      <td>37</td>\n",
       "      <td>Adults (35-64)</td>\n",
       "      <td>F</td>\n",
       "      <td>France</td>\n",
       "      <td>Seine (Paris)</td>\n",
       "      <td>Clothing</td>\n",
       "      <td>Vests</td>\n",
       "      <td>Classic Vest, L</td>\n",
       "      <td>23</td>\n",
       "      <td>24</td>\n",
       "      <td>64</td>\n",
       "      <td>655</td>\n",
       "      <td>552</td>\n",
       "      <td>1207</td>\n",
       "    </tr>\n",
       "  </tbody>\n",
       "</table>\n",
       "<p>113036 rows × 18 columns</p>\n",
       "</div>"
      ],
      "text/plain": [
       "             Date  Day     Month  Year  Customer_Age       Age_Group  \\\n",
       "0      2013-11-26   26  November  2013            19     Youth (<25)   \n",
       "1      2015-11-26   26  November  2015            19     Youth (<25)   \n",
       "2      2014-03-23   23     March  2014            49  Adults (35-64)   \n",
       "3      2016-03-23   23     March  2016            49  Adults (35-64)   \n",
       "4      2014-05-15   15       May  2014            47  Adults (35-64)   \n",
       "...           ...  ...       ...   ...           ...             ...   \n",
       "113031 2016-04-12   12     April  2016            41  Adults (35-64)   \n",
       "113032 2014-04-02    2     April  2014            18     Youth (<25)   \n",
       "113033 2016-04-02    2     April  2016            18     Youth (<25)   \n",
       "113034 2014-03-04    4     March  2014            37  Adults (35-64)   \n",
       "113035 2016-03-04    4     March  2016            37  Adults (35-64)   \n",
       "\n",
       "       Customer_Gender         Country             State Product_Category  \\\n",
       "0                    M          Canada  British Columbia      Accessories   \n",
       "1                    M          Canada  British Columbia      Accessories   \n",
       "2                    M       Australia   New South Wales      Accessories   \n",
       "3                    M       Australia   New South Wales      Accessories   \n",
       "4                    F       Australia   New South Wales      Accessories   \n",
       "...                ...             ...               ...              ...   \n",
       "113031               M  United Kingdom           England         Clothing   \n",
       "113032               M       Australia        Queensland         Clothing   \n",
       "113033               M       Australia        Queensland         Clothing   \n",
       "113034               F          France     Seine (Paris)         Clothing   \n",
       "113035               F          France     Seine (Paris)         Clothing   \n",
       "\n",
       "       Sub_Category              Product  Order_Quantity  Unit_Cost  \\\n",
       "0        Bike Racks  Hitch Rack - 4-Bike               8         45   \n",
       "1        Bike Racks  Hitch Rack - 4-Bike               8         45   \n",
       "2        Bike Racks  Hitch Rack - 4-Bike              23         45   \n",
       "3        Bike Racks  Hitch Rack - 4-Bike              20         45   \n",
       "4        Bike Racks  Hitch Rack - 4-Bike               4         45   \n",
       "...             ...                  ...             ...        ...   \n",
       "113031        Vests      Classic Vest, S               3         24   \n",
       "113032        Vests      Classic Vest, M              22         24   \n",
       "113033        Vests      Classic Vest, M              22         24   \n",
       "113034        Vests      Classic Vest, L              24         24   \n",
       "113035        Vests      Classic Vest, L              23         24   \n",
       "\n",
       "        Unit_Price  Profit  Cost  Revenue  \n",
       "0              120     590   360      950  \n",
       "1              120     590   360      950  \n",
       "2              120    1366  1035     2401  \n",
       "3              120    1188   900     2088  \n",
       "4              120     238   180      418  \n",
       "...            ...     ...   ...      ...  \n",
       "113031          64     112    72      184  \n",
       "113032          64     655   528     1183  \n",
       "113033          64     655   528     1183  \n",
       "113034          64     684   576     1260  \n",
       "113035          64     655   552     1207  \n",
       "\n",
       "[113036 rows x 18 columns]"
      ]
     },
     "execution_count": 8,
     "metadata": {},
     "output_type": "execute_result"
    }
   ],
   "source": [
    "sales_modified = sales.copy()\n",
    "sales_modified"
   ]
  },
  {
   "cell_type": "code",
   "execution_count": 9,
   "metadata": {},
   "outputs": [
    {
     "data": {
      "text/plain": [
       "count    113036.000000\n",
       "mean        267.296366\n",
       "std         549.835483\n",
       "min           1.000000\n",
       "25%           2.000000\n",
       "50%           9.000000\n",
       "75%          42.000000\n",
       "max        2171.000000\n",
       "Name: Unit_Cost, dtype: float64"
      ]
     },
     "execution_count": 9,
     "metadata": {},
     "output_type": "execute_result"
    }
   ],
   "source": [
    "sales_modified ['Unit_Cost'].describe()"
   ]
  },
  {
   "cell_type": "code",
   "execution_count": 10,
   "metadata": {},
   "outputs": [
    {
     "data": {
      "text/plain": [
       "<AxesSubplot:>"
      ]
     },
     "execution_count": 10,
     "metadata": {},
     "output_type": "execute_result"
    },
    {
     "data": {
      "image/png": "[encoded data removed]",
      "text/plain": [
       "<Figure size 1008x432 with 1 Axes>"
      ]
     },
     "metadata": {
      "needs_background": "light"
     },
     "output_type": "display_data"
    }
   ],
   "source": [
    "sales_modified['Unit_Cost'].plot(kind='box', vert=False, figsize=(14,6))"
   ]
  },
  {
   "cell_type": "code",
   "execution_count": 11,
   "metadata": {},
   "outputs": [
    {
     "data": {
      "text/plain": [
       "<AxesSubplot:ylabel='Density'>"
      ]
     },
     "execution_count": 11,
     "metadata": {},
     "output_type": "execute_result"
    },
    {
     "data": {
      "image/png": "[encoded data removed]",
      "text/plain": [
       "<Figure size 1008x432 with 1 Axes>"
      ]
     },
     "metadata": {
      "needs_background": "light"
     },
     "output_type": "display_data"
    }
   ],
   "source": [
    "sales_modified['Unit_Cost'].plot(kind='density', figsize=(14,6))"
   ]
  },
  {
   "cell_type": "code",
   "execution_count": 12,
   "metadata": {},
   "outputs": [
    {
     "data": {
      "text/plain": [
       "<matplotlib.lines.Line2D at 0x24a16759ca0>"
      ]
     },
     "execution_count": 12,
     "metadata": {},
     "output_type": "execute_result"
    },
    {
     "data": {
      "image/png": "[encoded data removed]",
      "text/plain": [
       "<Figure size 1008x432 with 1 Axes>"
      ]
     },
     "metadata": {
      "needs_background": "light"
     },
     "output_type": "display_data"
    }
   ],
   "source": [
    "ox = sales_modified['Unit_Cost'].plot(kind='density', figsize=(14,6))\n",
    "ox.axvline(sales_modified['Unit_Cost'].mean(), color='orange')\n",
    "ox.axvline(sales_modified['Unit_Cost'].median(), color='green')"
   ]
  },
  {
   "cell_type": "code",
   "execution_count": 13,
   "metadata": {
    "scrolled": true
   },
   "outputs": [
    {
     "data": {
      "image/png": "[encoded data removed]",
      "text/plain": [
       "<Figure size 1008x432 with 1 Axes>"
      ]
     },
     "metadata": {
      "needs_background": "light"
     },
     "output_type": "display_data"
    }
   ],
   "source": [
    "ox = sales_modified['Unit_Cost'].plot(kind='hist',  figsize=(14,6))"
   ]
  },
  {
   "cell_type": "markdown",
   "metadata": {},
   "source": [
    "# Categorical analysis and Visualization\n",
    "we'll analyze the Age_Group:"
   ]
  },
  {
   "cell_type": "code",
   "execution_count": 14,
   "metadata": {},
   "outputs": [
    {
     "data": {
      "text/plain": [
       "Adults (35-64)          55824\n",
       "Young Adults (25-34)    38654\n",
       "Youth (<25)             17828\n",
       "Seniors (64+)             730\n",
       "Name: Age_Group, dtype: int64"
      ]
     },
     "execution_count": 14,
     "metadata": {},
     "output_type": "execute_result"
    }
   ],
   "source": [
    "sales_modified['Age_Group'].value_counts()"
   ]
  },
  {
   "cell_type": "code",
   "execution_count": 15,
   "metadata": {},
   "outputs": [
    {
     "data": {
      "text/plain": [
       "<AxesSubplot:ylabel='Age_Group'>"
      ]
     },
     "execution_count": 15,
     "metadata": {},
     "output_type": "execute_result"
    },
    {
     "data": {
      "image/png": "[encoded data removed]",
      "text/plain": [
       "<Figure size 1008x432 with 1 Axes>"
      ]
     },
     "metadata": {},
     "output_type": "display_data"
    }
   ],
   "source": [
    "sales_modified['Age_Group'].value_counts().plot(kind='pie', figsize=(14,6))"
   ]
  },
  {
   "cell_type": "code",
   "execution_count": 52,
   "metadata": {},
   "outputs": [
    {
     "data": {
      "text/plain": [
       "<AxesSubplot:>"
      ]
     },
     "execution_count": 52,
     "metadata": {},
     "output_type": "execute_result"
    },
    {
     "data": {
      "image/png": "[encoded data removed]",
      "text/plain": [
       "<Figure size 1008x432 with 1 Axes>"
      ]
     },
     "metadata": {
      "needs_background": "light"
     },
     "output_type": "display_data"
    }
   ],
   "source": [
    " sales_modified['Age_Group'].value_counts().plot(kind='bar', figsize=(14,6))"
   ]
  },
  {
   "cell_type": "markdown",
   "metadata": {},
   "source": [
    "# Ralationship between the columns!\n",
    "what are the relationship and there significants amonge the columns"
   ]
  },
  {
   "cell_type": "code",
   "execution_count": 17,
   "metadata": {},
   "outputs": [
    {
     "data": {
      "text/html": [
       "<div>\n",
       "<style scoped>\n",
       "    .dataframe tbody tr th:only-of-type {\n",
       "        vertical-align: middle;\n",
       "    }\n",
       "\n",
       "    .dataframe tbody tr th {\n",
       "        vertical-align: top;\n",
       "    }\n",
       "\n",
       "    .dataframe thead th {\n",
       "        text-align: right;\n",
       "    }\n",
       "</style>\n",
       "<table border=\"1\" class=\"dataframe\">\n",
       "  <thead>\n",
       "    <tr style=\"text-align: right;\">\n",
       "      <th></th>\n",
       "      <th>Day</th>\n",
       "      <th>Year</th>\n",
       "      <th>Customer_Age</th>\n",
       "      <th>Order_Quantity</th>\n",
       "      <th>Unit_Cost</th>\n",
       "      <th>Unit_Price</th>\n",
       "      <th>Profit</th>\n",
       "      <th>Cost</th>\n",
       "      <th>Revenue</th>\n",
       "    </tr>\n",
       "  </thead>\n",
       "  <tbody>\n",
       "    <tr>\n",
       "      <th>Day</th>\n",
       "      <td>1.000000</td>\n",
       "      <td>-0.007635</td>\n",
       "      <td>-0.014296</td>\n",
       "      <td>-0.002412</td>\n",
       "      <td>0.003133</td>\n",
       "      <td>0.003207</td>\n",
       "      <td>0.004623</td>\n",
       "      <td>0.003329</td>\n",
       "      <td>0.003853</td>\n",
       "    </tr>\n",
       "    <tr>\n",
       "      <th>Year</th>\n",
       "      <td>-0.007635</td>\n",
       "      <td>1.000000</td>\n",
       "      <td>0.040994</td>\n",
       "      <td>0.123169</td>\n",
       "      <td>-0.217575</td>\n",
       "      <td>-0.213673</td>\n",
       "      <td>-0.181525</td>\n",
       "      <td>-0.215604</td>\n",
       "      <td>-0.208673</td>\n",
       "    </tr>\n",
       "    <tr>\n",
       "      <th>Customer_Age</th>\n",
       "      <td>-0.014296</td>\n",
       "      <td>0.040994</td>\n",
       "      <td>1.000000</td>\n",
       "      <td>0.026887</td>\n",
       "      <td>-0.021374</td>\n",
       "      <td>-0.020262</td>\n",
       "      <td>0.004319</td>\n",
       "      <td>-0.016013</td>\n",
       "      <td>-0.009326</td>\n",
       "    </tr>\n",
       "    <tr>\n",
       "      <th>Order_Quantity</th>\n",
       "      <td>-0.002412</td>\n",
       "      <td>0.123169</td>\n",
       "      <td>0.026887</td>\n",
       "      <td>1.000000</td>\n",
       "      <td>-0.515835</td>\n",
       "      <td>-0.515925</td>\n",
       "      <td>-0.238863</td>\n",
       "      <td>-0.340382</td>\n",
       "      <td>-0.312895</td>\n",
       "    </tr>\n",
       "    <tr>\n",
       "      <th>Unit_Cost</th>\n",
       "      <td>0.003133</td>\n",
       "      <td>-0.217575</td>\n",
       "      <td>-0.021374</td>\n",
       "      <td>-0.515835</td>\n",
       "      <td>1.000000</td>\n",
       "      <td>0.997894</td>\n",
       "      <td>0.741020</td>\n",
       "      <td>0.829869</td>\n",
       "      <td>0.817865</td>\n",
       "    </tr>\n",
       "    <tr>\n",
       "      <th>Unit_Price</th>\n",
       "      <td>0.003207</td>\n",
       "      <td>-0.213673</td>\n",
       "      <td>-0.020262</td>\n",
       "      <td>-0.515925</td>\n",
       "      <td>0.997894</td>\n",
       "      <td>1.000000</td>\n",
       "      <td>0.749870</td>\n",
       "      <td>0.826301</td>\n",
       "      <td>0.818522</td>\n",
       "    </tr>\n",
       "    <tr>\n",
       "      <th>Profit</th>\n",
       "      <td>0.004623</td>\n",
       "      <td>-0.181525</td>\n",
       "      <td>0.004319</td>\n",
       "      <td>-0.238863</td>\n",
       "      <td>0.741020</td>\n",
       "      <td>0.749870</td>\n",
       "      <td>1.000000</td>\n",
       "      <td>0.902233</td>\n",
       "      <td>0.956572</td>\n",
       "    </tr>\n",
       "    <tr>\n",
       "      <th>Cost</th>\n",
       "      <td>0.003329</td>\n",
       "      <td>-0.215604</td>\n",
       "      <td>-0.016013</td>\n",
       "      <td>-0.340382</td>\n",
       "      <td>0.829869</td>\n",
       "      <td>0.826301</td>\n",
       "      <td>0.902233</td>\n",
       "      <td>1.000000</td>\n",
       "      <td>0.988758</td>\n",
       "    </tr>\n",
       "    <tr>\n",
       "      <th>Revenue</th>\n",
       "      <td>0.003853</td>\n",
       "      <td>-0.208673</td>\n",
       "      <td>-0.009326</td>\n",
       "      <td>-0.312895</td>\n",
       "      <td>0.817865</td>\n",
       "      <td>0.818522</td>\n",
       "      <td>0.956572</td>\n",
       "      <td>0.988758</td>\n",
       "      <td>1.000000</td>\n",
       "    </tr>\n",
       "  </tbody>\n",
       "</table>\n",
       "</div>"
      ],
      "text/plain": [
       "                     Day      Year  Customer_Age  Order_Quantity  Unit_Cost  \\\n",
       "Day             1.000000 -0.007635     -0.014296       -0.002412   0.003133   \n",
       "Year           -0.007635  1.000000      0.040994        0.123169  -0.217575   \n",
       "Customer_Age   -0.014296  0.040994      1.000000        0.026887  -0.021374   \n",
       "Order_Quantity -0.002412  0.123169      0.026887        1.000000  -0.515835   \n",
       "Unit_Cost       0.003133 -0.217575     -0.021374       -0.515835   1.000000   \n",
       "Unit_Price      0.003207 -0.213673     -0.020262       -0.515925   0.997894   \n",
       "Profit          0.004623 -0.181525      0.004319       -0.238863   0.741020   \n",
       "Cost            0.003329 -0.215604     -0.016013       -0.340382   0.829869   \n",
       "Revenue         0.003853 -0.208673     -0.009326       -0.312895   0.817865   \n",
       "\n",
       "                Unit_Price    Profit      Cost   Revenue  \n",
       "Day               0.003207  0.004623  0.003329  0.003853  \n",
       "Year             -0.213673 -0.181525 -0.215604 -0.208673  \n",
       "Customer_Age     -0.020262  0.004319 -0.016013 -0.009326  \n",
       "Order_Quantity   -0.515925 -0.238863 -0.340382 -0.312895  \n",
       "Unit_Cost         0.997894  0.741020  0.829869  0.817865  \n",
       "Unit_Price        1.000000  0.749870  0.826301  0.818522  \n",
       "Profit            0.749870  1.000000  0.902233  0.956572  \n",
       "Cost              0.826301  0.902233  1.000000  0.988758  \n",
       "Revenue           0.818522  0.956572  0.988758  1.000000  "
      ]
     },
     "execution_count": 17,
     "metadata": {},
     "output_type": "execute_result"
    }
   ],
   "source": [
    "corr = sales_modified.corr()\n",
    "corr"
   ]
  },
  {
   "cell_type": "code",
   "execution_count": 18,
   "metadata": {},
   "outputs": [
    {
     "data": {
      "image/png": "[encoded data removed]",
      "text/plain": [
       "<Figure size 2448x576 with 1 Axes>"
      ]
     },
     "metadata": {
      "needs_background": "light"
     },
     "output_type": "display_data"
    }
   ],
   "source": [
    "fig = plt.figure(figsize=(34,8))\n",
    "plt.matshow(corr, cmap='RdBu', fignum=fig.number)\n",
    "plt.xticks(range(len(corr.columns)), corr.columns, rotation='vertical');\n",
    "plt.yticks(range(len(corr.columns)), corr.columns);"
   ]
  },
  {
   "cell_type": "code",
   "execution_count": 19,
   "metadata": {},
   "outputs": [
    {
     "data": {
      "text/plain": [
       "<AxesSubplot:xlabel='Customer_Age', ylabel='Revenue'>"
      ]
     },
     "execution_count": 19,
     "metadata": {},
     "output_type": "execute_result"
    },
    {
     "data": {
      "image/png": "[encoded data removed]",
      "text/plain": [
       "<Figure size 720x432 with 1 Axes>"
      ]
     },
     "metadata": {
      "needs_background": "light"
     },
     "output_type": "display_data"
    }
   ],
   "source": [
    "sales_modified.plot(kind='scatter', x='Customer_Age', y='Revenue', s=50, c='green', figsize=(10,6))"
   ]
  },
  {
   "cell_type": "code",
   "execution_count": 20,
   "metadata": {},
   "outputs": [
    {
     "data": {
      "text/plain": [
       "<AxesSubplot:xlabel='Revenue', ylabel='Profit'>"
      ]
     },
     "execution_count": 20,
     "metadata": {},
     "output_type": "execute_result"
    },
    {
     "data": {
      "image/png": "[encoded data removed]",
      "text/plain": [
       "<Figure size 720x432 with 1 Axes>"
      ]
     },
     "metadata": {
      "needs_background": "light"
     },
     "output_type": "display_data"
    }
   ],
   "source": [
    "sales_modified.plot(kind='scatter', x='Revenue', y='Profit', s=50, c='green', figsize=(10,6))"
   ]
  },
  {
   "cell_type": "code",
   "execution_count": 21,
   "metadata": {},
   "outputs": [
    {
     "data": {
      "image/png": "[encoded data removed]",
      "text/plain": [
       "<Figure size 1008x432 with 1 Axes>"
      ]
     },
     "metadata": {
      "needs_background": "light"
     },
     "output_type": "display_data"
    }
   ],
   "source": [
    "ax = sales_modified[['Profit', 'Age_Group']].boxplot(by='Age_Group', figsize=(14,6))"
   ]
  },
  {
   "cell_type": "code",
   "execution_count": 22,
   "metadata": {},
   "outputs": [
    {
     "data": {
      "text/plain": [
       "Year                 AxesSubplot(0.125,0.536818;0.227941x0.343182)\n",
       "Customer_Age      AxesSubplot(0.398529,0.536818;0.227941x0.343182)\n",
       "Order_Quantity    AxesSubplot(0.672059,0.536818;0.227941x0.343182)\n",
       "Unit_Cost               AxesSubplot(0.125,0.125;0.227941x0.343182)\n",
       "Unit_Price           AxesSubplot(0.398529,0.125;0.227941x0.343182)\n",
       "Profit               AxesSubplot(0.672059,0.125;0.227941x0.343182)\n",
       "dtype: object"
      ]
     },
     "execution_count": 22,
     "metadata": {},
     "output_type": "execute_result"
    },
    {
     "data": {
      "image/png": "[encoded data removed]",
      "text/plain": [
       "<Figure size 1008x576 with 6 Axes>"
      ]
     },
     "metadata": {
      "needs_background": "light"
     },
     "output_type": "display_data"
    }
   ],
   "source": [
    "boxplot_cols = ['Year', 'Customer_Age', 'Order_Quantity', 'Unit_Cost', 'Unit_Price', 'Profit']\n",
    "sales_modified[boxplot_cols].plot(kind='box', subplots=True, layout=(2,3), figsize=(14,8))"
   ]
  },
  {
   "cell_type": "markdown",
   "metadata": {},
   "source": [
    "# Column Wrangling\n",
    "We can also create new columns or modify existing ones:"
   ]
  },
  {
   "cell_type": "code",
   "execution_count": 23,
   "metadata": {},
   "outputs": [
    {
     "data": {
      "text/plain": [
       "0    50.000000\n",
       "1    50.000000\n",
       "2    49.000000\n",
       "3    42.612245\n",
       "4     8.893617\n",
       "Name: Revenue_Per_Age, dtype: float64"
      ]
     },
     "execution_count": 23,
     "metadata": {},
     "output_type": "execute_result"
    }
   ],
   "source": [
    "sales_modified['Revenue_Per_Age'] = sales_modified['Revenue'] / sales_modified['Customer_Age']\n",
    "sales_modified['Revenue_Per_Age'].head()"
   ]
  },
  {
   "cell_type": "code",
   "execution_count": 24,
   "metadata": {},
   "outputs": [
    {
     "data": {
      "text/plain": [
       "<AxesSubplot:ylabel='Density'>"
      ]
     },
     "execution_count": 24,
     "metadata": {},
     "output_type": "execute_result"
    },
    {
     "data": {
      "image/png": "[encoded data removed]",
      "text/plain": [
       "<Figure size 1008x432 with 1 Axes>"
      ]
     },
     "metadata": {
      "needs_background": "light"
     },
     "output_type": "display_data"
    }
   ],
   "source": [
    "sales_modified['Revenue_Per_Age'].plot(kind='density', figsize=(14,6))"
   ]
  },
  {
   "cell_type": "code",
   "execution_count": 25,
   "metadata": {},
   "outputs": [
    {
     "data": {
      "text/plain": [
       "<AxesSubplot:ylabel='Frequency'>"
      ]
     },
     "execution_count": 25,
     "metadata": {},
     "output_type": "execute_result"
    },
    {
     "data": {
      "image/png": "[encoded data removed]",
      "text/plain": [
       "<Figure size 1008x432 with 1 Axes>"
      ]
     },
     "metadata": {
      "needs_background": "light"
     },
     "output_type": "display_data"
    }
   ],
   "source": [
    "sales_modified['Revenue_Per_Age'].plot(kind='hist', figsize=(14,6))"
   ]
  },
  {
   "cell_type": "markdown",
   "metadata": {},
   "source": [
    "# Add and Calculate a new Calculated_Cost column\n",
    "Calculated_Cost = order_quantity * unity_cost"
   ]
  },
  {
   "cell_type": "code",
   "execution_count": 26,
   "metadata": {},
   "outputs": [
    {
     "data": {
      "text/plain": [
       "0     360\n",
       "1     360\n",
       "2    1035\n",
       "3     900\n",
       "4     180\n",
       "Name: Calculated_Cost, dtype: int64"
      ]
     },
     "execution_count": 26,
     "metadata": {},
     "output_type": "execute_result"
    }
   ],
   "source": [
    "sales_modified['Calculated_Cost'] = sales_modified['Order_Quantity'] * sales_modified['Unit_Cost']\n",
    "sales_modified['Calculated_Cost'].head()"
   ]
  },
  {
   "cell_type": "code",
   "execution_count": 27,
   "metadata": {},
   "outputs": [
    {
     "data": {
      "text/plain": [
       "0"
      ]
     },
     "execution_count": 27,
     "metadata": {},
     "output_type": "execute_result"
    }
   ],
   "source": [
    "# checking for missing value and data validation\n",
    "(sales_modified['Calculated_Cost'] != sales_modified['Cost']). sum()"
   ]
  },
  {
   "cell_type": "code",
   "execution_count": 28,
   "metadata": {},
   "outputs": [
    {
     "data": {
      "text/plain": [
       "<AxesSubplot:xlabel='Calculated_Cost', ylabel='Profit'>"
      ]
     },
     "execution_count": 28,
     "metadata": {},
     "output_type": "execute_result"
    },
    {
     "data": {
      "image/png": "[encoded data removed]",
      "text/plain": [
       "<Figure size 720x432 with 1 Axes>"
      ]
     },
     "metadata": {
      "needs_background": "light"
     },
     "output_type": "display_data"
    }
   ],
   "source": [
    "sales_modified.plot(kind='scatter', x='Calculated_Cost', y='Profit', s=50, c='green', figsize=(10,6))"
   ]
  },
  {
   "cell_type": "code",
   "execution_count": 29,
   "metadata": {},
   "outputs": [
    {
     "data": {
      "text/plain": [
       "0     950\n",
       "1     950\n",
       "2    2401\n",
       "3    2088\n",
       "4     418\n",
       "Name: Calculated_Revenue, dtype: int64"
      ]
     },
     "execution_count": 29,
     "metadata": {},
     "output_type": "execute_result"
    }
   ],
   "source": [
    "sales_modified['Calculated_Revenue'] = sales_modified['Cost'] + sales_modified['Profit']\n",
    "sales_modified['Calculated_Revenue'].head()"
   ]
  },
  {
   "cell_type": "code",
   "execution_count": 30,
   "metadata": {},
   "outputs": [
    {
     "data": {
      "text/plain": [
       "0"
      ]
     },
     "execution_count": 30,
     "metadata": {},
     "output_type": "execute_result"
    }
   ],
   "source": [
    "(sales_modified['Calculated_Revenue'] != sales_modified['Revenue']). sum()"
   ]
  },
  {
   "cell_type": "code",
   "execution_count": 31,
   "metadata": {},
   "outputs": [
    {
     "data": {
      "text/plain": [
       "<AxesSubplot:ylabel='Frequency'>"
      ]
     },
     "execution_count": 31,
     "metadata": {},
     "output_type": "execute_result"
    },
    {
     "data": {
      "image/png": "[encoded data removed]",
      "text/plain": [
       "<Figure size 1008x432 with 1 Axes>"
      ]
     },
     "metadata": {
      "needs_background": "light"
     },
     "output_type": "display_data"
    }
   ],
   "source": [
    "sales_modified['Revenue'].plot(kind='hist', bins=50, figsize=(14,6))"
   ]
  },
  {
   "cell_type": "code",
   "execution_count": 32,
   "metadata": {},
   "outputs": [
    {
     "data": {
      "text/plain": [
       "0    120\n",
       "1    120\n",
       "2    120\n",
       "3    120\n",
       "4    120\n",
       "Name: Unit_Price, dtype: int64"
      ]
     },
     "execution_count": 32,
     "metadata": {},
     "output_type": "execute_result"
    }
   ],
   "source": [
    "sales['Unit_Price'].head()"
   ]
  },
  {
   "cell_type": "code",
   "execution_count": 33,
   "metadata": {},
   "outputs": [
    {
     "data": {
      "text/html": [
       "<div>\n",
       "<style scoped>\n",
       "    .dataframe tbody tr th:only-of-type {\n",
       "        vertical-align: middle;\n",
       "    }\n",
       "\n",
       "    .dataframe tbody tr th {\n",
       "        vertical-align: top;\n",
       "    }\n",
       "\n",
       "    .dataframe thead th {\n",
       "        text-align: right;\n",
       "    }\n",
       "</style>\n",
       "<table border=\"1\" class=\"dataframe\">\n",
       "  <thead>\n",
       "    <tr style=\"text-align: right;\">\n",
       "      <th></th>\n",
       "      <th>Date</th>\n",
       "      <th>Day</th>\n",
       "      <th>Month</th>\n",
       "      <th>Year</th>\n",
       "      <th>Customer_Age</th>\n",
       "      <th>Age_Group</th>\n",
       "      <th>Customer_Gender</th>\n",
       "      <th>Country</th>\n",
       "      <th>State</th>\n",
       "      <th>Product_Category</th>\n",
       "      <th>Sub_Category</th>\n",
       "      <th>Product</th>\n",
       "      <th>Order_Quantity</th>\n",
       "      <th>Unit_Cost</th>\n",
       "      <th>Unit_Price</th>\n",
       "      <th>Profit</th>\n",
       "      <th>Cost</th>\n",
       "      <th>Revenue</th>\n",
       "    </tr>\n",
       "  </thead>\n",
       "  <tbody>\n",
       "    <tr>\n",
       "      <th>0</th>\n",
       "      <td>2013-11-26</td>\n",
       "      <td>26</td>\n",
       "      <td>November</td>\n",
       "      <td>2013</td>\n",
       "      <td>19</td>\n",
       "      <td>Youth (&lt;25)</td>\n",
       "      <td>M</td>\n",
       "      <td>Canada</td>\n",
       "      <td>British Columbia</td>\n",
       "      <td>Accessories</td>\n",
       "      <td>Bike Racks</td>\n",
       "      <td>Hitch Rack - 4-Bike</td>\n",
       "      <td>8</td>\n",
       "      <td>45</td>\n",
       "      <td>120</td>\n",
       "      <td>590</td>\n",
       "      <td>360</td>\n",
       "      <td>950</td>\n",
       "    </tr>\n",
       "    <tr>\n",
       "      <th>1</th>\n",
       "      <td>2015-11-26</td>\n",
       "      <td>26</td>\n",
       "      <td>November</td>\n",
       "      <td>2015</td>\n",
       "      <td>19</td>\n",
       "      <td>Youth (&lt;25)</td>\n",
       "      <td>M</td>\n",
       "      <td>Canada</td>\n",
       "      <td>British Columbia</td>\n",
       "      <td>Accessories</td>\n",
       "      <td>Bike Racks</td>\n",
       "      <td>Hitch Rack - 4-Bike</td>\n",
       "      <td>8</td>\n",
       "      <td>45</td>\n",
       "      <td>120</td>\n",
       "      <td>590</td>\n",
       "      <td>360</td>\n",
       "      <td>950</td>\n",
       "    </tr>\n",
       "    <tr>\n",
       "      <th>2</th>\n",
       "      <td>2014-03-23</td>\n",
       "      <td>23</td>\n",
       "      <td>March</td>\n",
       "      <td>2014</td>\n",
       "      <td>49</td>\n",
       "      <td>Adults (35-64)</td>\n",
       "      <td>M</td>\n",
       "      <td>Australia</td>\n",
       "      <td>New South Wales</td>\n",
       "      <td>Accessories</td>\n",
       "      <td>Bike Racks</td>\n",
       "      <td>Hitch Rack - 4-Bike</td>\n",
       "      <td>23</td>\n",
       "      <td>45</td>\n",
       "      <td>120</td>\n",
       "      <td>1366</td>\n",
       "      <td>1035</td>\n",
       "      <td>2401</td>\n",
       "    </tr>\n",
       "    <tr>\n",
       "      <th>3</th>\n",
       "      <td>2016-03-23</td>\n",
       "      <td>23</td>\n",
       "      <td>March</td>\n",
       "      <td>2016</td>\n",
       "      <td>49</td>\n",
       "      <td>Adults (35-64)</td>\n",
       "      <td>M</td>\n",
       "      <td>Australia</td>\n",
       "      <td>New South Wales</td>\n",
       "      <td>Accessories</td>\n",
       "      <td>Bike Racks</td>\n",
       "      <td>Hitch Rack - 4-Bike</td>\n",
       "      <td>20</td>\n",
       "      <td>45</td>\n",
       "      <td>120</td>\n",
       "      <td>1188</td>\n",
       "      <td>900</td>\n",
       "      <td>2088</td>\n",
       "    </tr>\n",
       "    <tr>\n",
       "      <th>4</th>\n",
       "      <td>2014-05-15</td>\n",
       "      <td>15</td>\n",
       "      <td>May</td>\n",
       "      <td>2014</td>\n",
       "      <td>47</td>\n",
       "      <td>Adults (35-64)</td>\n",
       "      <td>F</td>\n",
       "      <td>Australia</td>\n",
       "      <td>New South Wales</td>\n",
       "      <td>Accessories</td>\n",
       "      <td>Bike Racks</td>\n",
       "      <td>Hitch Rack - 4-Bike</td>\n",
       "      <td>4</td>\n",
       "      <td>45</td>\n",
       "      <td>120</td>\n",
       "      <td>238</td>\n",
       "      <td>180</td>\n",
       "      <td>418</td>\n",
       "    </tr>\n",
       "  </tbody>\n",
       "</table>\n",
       "</div>"
      ],
      "text/plain": [
       "        Date  Day     Month  Year  Customer_Age       Age_Group  \\\n",
       "0 2013-11-26   26  November  2013            19     Youth (<25)   \n",
       "1 2015-11-26   26  November  2015            19     Youth (<25)   \n",
       "2 2014-03-23   23     March  2014            49  Adults (35-64)   \n",
       "3 2016-03-23   23     March  2016            49  Adults (35-64)   \n",
       "4 2014-05-15   15       May  2014            47  Adults (35-64)   \n",
       "\n",
       "  Customer_Gender    Country             State Product_Category Sub_Category  \\\n",
       "0               M     Canada  British Columbia      Accessories   Bike Racks   \n",
       "1               M     Canada  British Columbia      Accessories   Bike Racks   \n",
       "2               M  Australia   New South Wales      Accessories   Bike Racks   \n",
       "3               M  Australia   New South Wales      Accessories   Bike Racks   \n",
       "4               F  Australia   New South Wales      Accessories   Bike Racks   \n",
       "\n",
       "               Product  Order_Quantity  Unit_Cost  Unit_Price  Profit  Cost  \\\n",
       "0  Hitch Rack - 4-Bike               8         45         120     590   360   \n",
       "1  Hitch Rack - 4-Bike               8         45         120     590   360   \n",
       "2  Hitch Rack - 4-Bike              23         45         120    1366  1035   \n",
       "3  Hitch Rack - 4-Bike              20         45         120    1188   900   \n",
       "4  Hitch Rack - 4-Bike               4         45         120     238   180   \n",
       "\n",
       "   Revenue  \n",
       "0      950  \n",
       "1      950  \n",
       "2     2401  \n",
       "3     2088  \n",
       "4      418  "
      ]
     },
     "execution_count": 33,
     "metadata": {},
     "output_type": "execute_result"
    }
   ],
   "source": [
    "sales_modified2 = sales.copy()\n",
    "sales_modified2.head()"
   ]
  },
  {
   "cell_type": "code",
   "execution_count": 34,
   "metadata": {},
   "outputs": [],
   "source": [
    "#sales_modified['Unit_Price'] = sales_modified['Unit_Price'] * 1.05\n",
    "sales_modified2['Unit_Price'] *= 1.03"
   ]
  },
  {
   "cell_type": "code",
   "execution_count": 35,
   "metadata": {},
   "outputs": [
    {
     "data": {
      "text/plain": [
       "0    123.6\n",
       "1    123.6\n",
       "2    123.6\n",
       "3    123.6\n",
       "4    123.6\n",
       "Name: Unit_Price, dtype: float64"
      ]
     },
     "execution_count": 35,
     "metadata": {},
     "output_type": "execute_result"
    }
   ],
   "source": [
    "sales_modified2['Unit_Price'].head()"
   ]
  },
  {
   "cell_type": "code",
   "execution_count": 36,
   "metadata": {},
   "outputs": [
    {
     "name": "stdout",
     "output_type": "stream",
     "text": [
      "<class 'pandas.core.frame.DataFrame'>\n",
      "RangeIndex: 113036 entries, 0 to 113035\n",
      "Data columns (total 18 columns):\n",
      " #   Column            Non-Null Count   Dtype         \n",
      "---  ------            --------------   -----         \n",
      " 0   Date              113036 non-null  datetime64[ns]\n",
      " 1   Day               113036 non-null  int64         \n",
      " 2   Month             113036 non-null  object        \n",
      " 3   Year              113036 non-null  int64         \n",
      " 4   Customer_Age      113036 non-null  int64         \n",
      " 5   Age_Group         113036 non-null  object        \n",
      " 6   Customer_Gender   113036 non-null  object        \n",
      " 7   Country           113036 non-null  object        \n",
      " 8   State             113036 non-null  object        \n",
      " 9   Product_Category  113036 non-null  object        \n",
      " 10  Sub_Category      113036 non-null  object        \n",
      " 11  Product           113036 non-null  object        \n",
      " 12  Order_Quantity    113036 non-null  int64         \n",
      " 13  Unit_Cost         113036 non-null  int64         \n",
      " 14  Unit_Price        113036 non-null  float64       \n",
      " 15  Profit            113036 non-null  int64         \n",
      " 16  Cost              113036 non-null  int64         \n",
      " 17  Revenue           113036 non-null  int64         \n",
      "dtypes: datetime64[ns](1), float64(1), int64(8), object(8)\n",
      "memory usage: 15.5+ MB\n"
     ]
    }
   ],
   "source": [
    "sales_modified2.info()"
   ]
  },
  {
   "cell_type": "code",
   "execution_count": 37,
   "metadata": {},
   "outputs": [],
   "source": [
    " #sales_modified2.loc[sales_modified2['State'] == 'Oregon']"
   ]
  },
  {
   "cell_type": "code",
   "execution_count": 38,
   "metadata": {},
   "outputs": [
    {
     "data": {
      "text/plain": [
       "762.8287654055604"
      ]
     },
     "execution_count": 38,
     "metadata": {},
     "output_type": "execute_result"
    }
   ],
   "source": [
    "# Get the mean revenue of the Adults in the range of 35-64 (sales group)\n",
    "sales_modified2.loc[sales_modified2['Age_Group'] == 'Adults (35-64)', 'Revenue'].mean()"
   ]
  },
  {
   "cell_type": "code",
   "execution_count": 39,
   "metadata": {},
   "outputs": [
    {
     "data": {
      "text/plain": [
       "730"
      ]
     },
     "execution_count": 39,
     "metadata": {},
     "output_type": "execute_result"
    }
   ],
   "source": [
    "#number of records belong to Age group Youth (25-43) or Seniors (64+)?\n",
    "sales_modified2.loc[(sales_modified2['Age_Group'] == 'Youth (25-43)') | \n",
    "                     (sales_modified2['Age_Group'] == 'Seniors (64+)')].shape[0]\n",
    "                      "
   ]
  },
  {
   "cell_type": "code",
   "execution_count": 40,
   "metadata": {},
   "outputs": [
    {
     "data": {
      "text/plain": [
       "616.0251466890193"
      ]
     },
     "execution_count": 40,
     "metadata": {},
     "output_type": "execute_result"
    }
   ],
   "source": [
    "# The mean Revenue of sales group Adults (35-64) in Canada\n",
    "sales_modified2.loc[(sales_modified2['Age_Group'] == 'Adults (35-64)') & \n",
    "                    (sales_modified2['Country'] == 'Canada'), 'Revenue'].mean()"
   ]
  },
  {
   "cell_type": "markdown",
   "metadata": {},
   "source": [
    "# Increase the revenue by 10% to every sale made in British Columbia (Canada)\n",
    "   "
   ]
  },
  {
   "cell_type": "code",
   "execution_count": 41,
   "metadata": {},
   "outputs": [
    {
     "data": {
      "text/plain": [
       "0     950\n",
       "1     950\n",
       "14    594\n",
       "15    832\n",
       "16    238\n",
       "Name: Revenue, dtype: int64"
      ]
     },
     "execution_count": 41,
     "metadata": {},
     "output_type": "execute_result"
    }
   ],
   "source": [
    "sales_modified2.loc[(sales_modified2['Country'] == 'Canada') & \n",
    "                    (sales_modified2['State'] == 'British Columbia'), 'Revenue'].head()"
   ]
  },
  {
   "cell_type": "code",
   "execution_count": 42,
   "metadata": {},
   "outputs": [],
   "source": [
    "sales_modified2.loc[sales_modified2['State'] == 'British Columbia', 'Revenue'] *= 1.1"
   ]
  },
  {
   "cell_type": "code",
   "execution_count": 43,
   "metadata": {},
   "outputs": [
    {
     "data": {
      "text/plain": [
       "0     1045.0\n",
       "1     1045.0\n",
       "14     653.4\n",
       "15     915.2\n",
       "16     261.8\n",
       "Name: Revenue, dtype: float64"
      ]
     },
     "execution_count": 43,
     "metadata": {},
     "output_type": "execute_result"
    }
   ],
   "source": [
    "sales_modified2.loc[sales_modified2['State'] == 'British Columbia', 'Revenue'].head()"
   ]
  },
  {
   "cell_type": "code",
   "execution_count": null,
   "metadata": {},
   "outputs": [],
   "source": []
  }
 ],
 "metadata": {
  "kernelspec": {
   "display_name": "Python 3",
   "language": "python",
   "name": "python3"
  },
  "language_info": {
   "codemirror_mode": {
    "name": "ipython",
    "version": 3
   },
   "file_extension": ".py",
   "mimetype": "text/x-python",
   "name": "python",
   "nbconvert_exporter": "python",
   "pygments_lexer": "ipython3",
   "version": "3.8.5"
  }
 },
 "nbformat": 4,
 "nbformat_minor": 4
}
